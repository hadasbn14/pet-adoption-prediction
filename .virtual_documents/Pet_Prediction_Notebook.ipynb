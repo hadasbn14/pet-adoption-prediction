











import numpy as np 
import pandas as pd
import seaborn as sns
import matplotlib.pyplot as plt
%matplotlib inline
import plotly.express as px





df=pd.read_csv(r'C:\Users\punkp\OneDrive\Desktop\Year 5\Semester 1\ECE 4715\pet_adoption_data.csv')
df





df['PetType'].unique()


df.isnull().sum()


#Data statistics
#Let's use info() method to get quick description of data.
df.info()


df['PetType'].value_counts()


df['AdoptionLikelihood'].value_counts()





sns.set()


df.PetType.hist()
plt.ylabel('Count')
plt.xlabel('PetType')


print(df.columns)  # Just making sure


content_type = df.groupby(['Breed']).size().reset_index(name='counts')
content_type
# Ploting Distribution of content ratings on Netflix
fig = px.pie(content_type, names = 'Breed',values = 'counts',color_discrete_sequence =  px.colors.sequential.Agsunset,
             title = 'Distribution of Breed',height =  700 , width = 900)
fig.show()


content_type = df.groupby(['PetType']).size().reset_index(name='counts')
content_type
# Ploting Distribution of content ratings on Netflix
fig = px.pie(content_type, names = 'PetType',values = 'counts',color_discrete_sequence =  px.colors.sequential.Agsunset,
             title = 'Distribution of pet type',height =  700 , width = 900)
fig.show()


df.AdoptionLikelihood.hist()
plt.ylabel('Count')
plt.xlabel('Adoption Likelihood')


df.hist(bins=50,figsize=(15,15))
# display histogram
plt.show()


sns.countplot(x = df['PetType'],  hue = df['AdoptionLikelihood'])
plt.xticks(rotation=90)





target=df['AdoptionLikelihood']
target


df=df.drop('AdoptionLikelihood', axis=1)


Numerical_col=[]
Categorical_col=[]
for feature in df.columns:
    if df[feature].dtype!="object":
        Numerical_col.append(feature)
    else:
        Categorical_col.append(feature)


Categorical_col


df["PetType"]=df["PetType"].map({"Bird":0,"Rabbit":1,"Dog":2,"Cat":3})


df["Size"]=df["Size"].map({"Small":0,"Large":1,"Medium":2})


df


df=pd.get_dummies(df, columns=['Breed', 'Color'], drop_first=True)


df


List=["Breed_Labrador","Breed_Parakeet","Breed_Persian","Breed_Poodle","Breed_Siamese","Breed_Rabbit","Color_Brown",
     "Color_Gray","Color_Orange","Color_White"]


df[List]=df[List].astype(int)


df


from sklearn.preprocessing import StandardScaler
scaler=StandardScaler()
x=scaler.fit_transform(df)
x


from sklearn.model_selection import train_test_split
X_train,X_test,y_train,y_test=train_test_split(x,target,test_size=0.2, random_state=42)


len(X_train)


len(X_test)





import tensorflow as tf
from tensorflow.keras import layers

# Define the input shape
input_shape = (20,) # Example input shape

# Create the sequential model
model = tf.keras.Sequential([
    tf.keras.Input(shape=input_shape),
    layers.Dense(64, activation='relu'),
    layers.Dense(1, activation='sigmoid')
])

# Compile the model
model.compile(optimizer='adam', loss='binary_crossentropy', metrics=['accuracy'])

# Summary of the model
model.summary()


model.summary()





y_pred_ANN=model.predict(X_test)


y_pred_ANN=y_pred_ANN.round().astype(int)



from sklearn.metrics import classification_report,confusion_matrix
print('ANN Classification Report :\n', classification_report(y_test,y_pred_ANN))
from sklearn.ensemble import GradientBoostingClassifier
from sklearn.metrics import classification_report, confusion_matrix

# Initialize the Gradient Boosting Classifier
gbc = GradientBoostingClassifier(n_estimators=100, learning_rate=0.1, max_depth=3, random_state=42)

# Train the model
gbc.fit(X_train, y_train)

# Evaluate the Gradient Boosting model
y_pred_gbc = gbc.predict(X_test)
print("Gradient Boosting Classification Report:\n", classification_report(y_test, y_pred_gbc))

# Display the confusion matrix
cm_gbc = confusion_matrix(y_test, y_pred_gbc)
print("Confusion Matrix:\n", cm_gbc)



from sklearn.metrics import confusion_matrix
cm=confusion_matrix(y_test,y_pred_ANN)
cm


import seaborn as sns
import matplotlib.pyplot as plt
%matplotlib inline
plt.figure(figsize=(7,5))
sns.heatmap(cm,annot=True)
plt.xlabel('predicted')
plt.ylabel('Truth')









